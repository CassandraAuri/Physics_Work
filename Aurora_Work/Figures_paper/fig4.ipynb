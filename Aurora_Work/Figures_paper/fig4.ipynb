{
 "cells": [
  {
   "cell_type": "code",
   "execution_count": null,
   "metadata": {},
   "outputs": [],
   "source": [
    "import numpy as np\n",
    "import pandas as pd\n",
    "import datetime as dt\n",
    "import matplotlib.pyplot as plt\n",
    "from apexpy import Apex\n",
    "import lompe\n",
    "from lompe.model.cmodel import Cmodel\n",
    "from lompe.data_tools import dataloader"
   ]
  },
  {
   "cell_type": "code",
   "execution_count": null,
   "metadata": {},
   "outputs": [],
   "source": [
    "# set time interval\n",
    "event = '2014-12-15'\n",
    "hour = 1\n",
    "minute = 19\n",
    "t0 = dt.datetime(int(event[0:4]), int(event[5:7]), int(event[8:10]), hour, minute)\n",
    "DT = dt.timedelta(seconds = 2 * 60) # will select data from time +/- DT\n",
    "\n",
    "# apex object for magnetic coordinates\n",
    "a = Apex(t0.year)\n",
    "\n",
    "# locations of data\n",
    "tempfile_path = './sample_dataset/' # to put the processed data\n",
    "basepath = tempfile_path + 'raw/' # unprocessed downloads"
   ]
  },
  {
   "cell_type": "code",
   "execution_count": null,
   "metadata": {},
   "outputs": [],
   "source": [
    "\n",
    "position = (-98,73) # lon, lat\n",
    "orientation = -36 # east, north\n",
    "L, W = 2500e3, 2500e3 # dimensions of grid (L is along orientation vector)\n",
    "Lres, Wres = 70.e3, 70.e3 # resolution of grid (Lres is along orientation vector)\n",
    "grid = lompe.cs.CSgrid(lompe.cs.CSprojection(position, orientation), L, W, Lres, Wres, R = 6481.2e3)"
   ]
  },
  {
   "cell_type": "code",
   "execution_count": null,
   "metadata": {},
   "outputs": [],
   "source": [
    "# plot grid and coastlines\n",
    "fig, ax = plt.subplots(figsize = (10, 10))\n",
    "ax.set_axis_off()\n",
    "for lon, lat in grid.get_grid_boundaries():\n",
    "    xi, eta = grid.projection.geo2cube(lon, lat)\n",
    "    ax.plot(xi, eta, color = 'grey', linewidth = .4)\n",
    "\n",
    "xlim, ylim = ax.get_xlim(), ax.get_ylim()\n",
    "for cl in grid.projection.get_projected_coastlines():\n",
    "    ax.plot(cl[0], cl[1], color = 'C0')\n",
    "    \n",
    "ax.set_xlim(xlim)\n",
    "ax.set_ylim(ylim)"
   ]
  },
  {
   "cell_type": "code",
   "execution_count": null,
   "metadata": {},
   "outputs": [],
   "source": []
  }
 ],
 "metadata": {
  "kernelspec": {
   "display_name": "pymc_env",
   "language": "python",
   "name": "python3"
  },
  "language_info": {
   "name": "python",
   "version": "3.11.7"
  }
 },
 "nbformat": 4,
 "nbformat_minor": 2
}
