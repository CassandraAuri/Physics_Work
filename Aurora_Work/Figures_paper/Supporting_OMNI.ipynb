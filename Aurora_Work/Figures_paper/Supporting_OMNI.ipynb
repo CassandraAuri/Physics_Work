{
 "cells": [
  {
   "cell_type": "markdown",
   "metadata": {},
   "source": [
    "We will be using pyomnidata to retrieve omni data and plot for the support figures section"
   ]
  },
  {
   "cell_type": "code",
   "execution_count": null,
   "metadata": {},
   "outputs": [
    {
     "name": "stdout",
     "output_type": "stream",
     "text": [
      "Downloading file 1 of 68\n",
      "Downloading: omni_min1984.asc\n",
      "[==================================================]\n",
      "Converting to binary\n",
      "[=============================================]\n",
      "Saving\n",
      "Saving file: 1/OMNI-1min-1984.bin\n",
      "[##################################################]   89.5/  89.5 MiB (100.00%)\n",
      "Done\n",
      "Saved file: OMNI-1min-1984.bin\n",
      "Downloading file 2 of 68\n",
      "Downloading: omni_min1983.asc\n",
      "[==================================================]\n",
      "Converting to binary\n",
      "[=============================================]\n",
      "Saving\n",
      "Saving file: 1/OMNI-1min-1983.bin\n",
      "[##################################################]   89.2/  89.2 MiB (100.00%)\n",
      "Done\n",
      "Saved file: OMNI-1min-1983.bin\n",
      "Downloading file 3 of 68\n",
      "Downloading: omni_5min1994.asc\n",
      "[==================================================]\n",
      "Converting to binary\n",
      "[================================================]\n",
      "Saving\n",
      "Saving file: 5/OMNI-5min-1994.bin\n",
      "[##################################################]   19.0/  19.0 MiB (100.00%)\n",
      "Done\n",
      "Saved file: OMNI-5min-1994.bin\n",
      "Downloading file 4 of 68\n",
      "Downloading: omni_min2014.asc\n",
      "[==================================================]\n",
      "Converting to binary\n",
      "[=============================================]\n",
      "Saving\n",
      "Saving file: 1/OMNI-1min-2014.bin\n",
      "[##################################################]   89.2/  89.2 MiB (100.00%)\n",
      "Done\n",
      "Saved file: OMNI-1min-2014.bin\n",
      "Downloading file 5 of 68\n",
      "Downloading: omni_5min2003.asc\n",
      "[==================================================]\n",
      "Converting to binary\n",
      "[================================================]\n",
      "Saving\n",
      "Saving file: 5/OMNI-5min-2003.bin\n",
      "[##################################################]   19.0/  19.0 MiB (100.00%)\n",
      "Done\n",
      "Saved file: OMNI-5min-2003.bin\n",
      "Downloading file 6 of 68\n",
      "Downloading: omni_5min2004.asc\n",
      "[==================================================]\n",
      "Converting to binary\n",
      "[================================================]\n",
      "Saving\n",
      "Saving file: 5/OMNI-5min-2004.bin\n",
      "[##################################################]   19.1/  19.1 MiB (100.00%)\n",
      "Done\n",
      "Saved file: OMNI-5min-2004.bin\n",
      "Downloading file 7 of 68\n",
      "Downloading: omni_min2013.asc\n",
      "[==================================================]\n",
      "Converting to binary\n",
      "[=============================================]\n",
      "Saving\n",
      "Saving file: 1/OMNI-1min-2013.bin\n",
      "[##################################################]   89.2/  89.2 MiB (100.00%)\n",
      "Done\n",
      "Saved file: OMNI-1min-2013.bin\n",
      "Downloading file 8 of 68\n",
      "Downloading: omni_5min2015.asc\n",
      "[==================================================]\n",
      "Converting to binary\n",
      "[================================================]\n",
      "Saving\n",
      "Saving file: 5/OMNI-5min-2015.bin\n",
      "[##################################################]   19.0/  19.0 MiB (100.00%)\n",
      "Done\n",
      "Saved file: OMNI-5min-2015.bin\n",
      "Downloading file 9 of 68\n",
      "Downloading: omni_min2002.asc\n",
      "[==================================================]\n",
      "Converting to binary\n"
     ]
    }
   ],
   "source": [
    "import pyomnidata\n",
    "\n",
    "#download all available data\n",
    "pyomnidata.UpdateLocalData()"
   ]
  },
  {
   "cell_type": "code",
   "execution_count": 2,
   "metadata": {},
   "outputs": [
    {
     "name": "stdout",
     "output_type": "stream",
     "text": [
      "File not found: 5/OMNI-5min-2022.bin\n"
     ]
    }
   ],
   "source": [
    "data = pyomnidata.GetOMNI(2022,Res=5)"
   ]
  },
  {
   "cell_type": "code",
   "execution_count": 3,
   "metadata": {},
   "outputs": [
    {
     "data": {
      "image/png": "[encoded data removed]",
      "text/plain": [
       "<Figure size 1100x600 with 2 Axes>"
      ]
     },
     "metadata": {},
     "output_type": "display_data"
    }
   ],
   "source": [
    "import matplotlib.pyplot as plt\n",
    "\n",
    "#create a figure\n",
    "plt.figure(figsize=(11,6))\n",
    "\n",
    "#plot some stuff in one panel\n",
    "ax0 = pyomnidata.PlotOMNI(['SymH','SymD'],[20220101,20220120],fig=plt,maps=[2,1,0,0])\n",
    "\n",
    "#and a second panel\n",
    "ax1 = pyomnidata.PlotOMNI(['FlowSpeed'],[20220101,20220120],fig=plt,maps=[2,1,1,0])\n",
    "\n",
    "#fit things a bit nicer\n",
    "plt.tight_layout()"
   ]
  }
 ],
 "metadata": {
  "kernelspec": {
   "display_name": "pymc_env",
   "language": "python",
   "name": "python3"
  },
  "language_info": {
   "codemirror_mode": {
    "name": "ipython",
    "version": 3
   },
   "file_extension": ".py",
   "mimetype": "text/x-python",
   "name": "python",
   "nbconvert_exporter": "python",
   "pygments_lexer": "ipython3",
   "version": "3.11.8"
  }
 },
 "nbformat": 4,
 "nbformat_minor": 2
}
