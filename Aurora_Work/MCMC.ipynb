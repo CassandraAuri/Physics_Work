{
 "cells": [
  {
   "cell_type": "code",
   "execution_count": 1,
   "metadata": {},
   "outputs": [
    {
     "name": "stderr",
     "output_type": "stream",
     "text": [
      "Bad value in file WindowsPath('c:/Users/1101w/anaconda3/envs/pymc_env/Lib/site-packages/arviz/plots/styles/cyberpunk.mplstyle'), line 24 (\"axes.prop_cycle: cycler('color', ['08F7FE', 'FE53BB', 'F5D300', '00ff41', 'r', '9467bd', 'purple', '#8562f7' ])\"): Key axes.prop_cycle: \"cycler('color', ['08F7FE', 'FE53BB', 'F5D300', '00ff41', 'r', '9467bd', 'purple', '\" is not a valid cycler construction: unterminated string literal (detected at line 1) (<unknown>, line 1)\n"
     ]
    },
    {
     "name": "stdout",
     "output_type": "stream",
     "text": [
      "['Solarize_Light2', '_classic_test_patch', '_mpl-gallery', '_mpl-gallery-nogrid', 'arviz-bluish', 'arviz-brownish', 'arviz-colors', 'arviz-cyanish', 'arviz-darkgrid', 'arviz-doc', 'arviz-docgrid', 'arviz-grayscale', 'arviz-greenish', 'arviz-orangish', 'arviz-plasmish', 'arviz-purplish', 'arviz-redish', 'arviz-royish', 'arviz-viridish', 'arviz-white', 'arviz-whitegrid', 'bmh', 'classic', 'cyberpunk', 'dark_background', 'fast', 'fivethirtyeight', 'ggplot', 'grayscale', 'seaborn-v0_8', 'seaborn-v0_8-bright', 'seaborn-v0_8-colorblind', 'seaborn-v0_8-dark', 'seaborn-v0_8-dark-palette', 'seaborn-v0_8-darkgrid', 'seaborn-v0_8-deep', 'seaborn-v0_8-muted', 'seaborn-v0_8-notebook', 'seaborn-v0_8-paper', 'seaborn-v0_8-pastel', 'seaborn-v0_8-poster', 'seaborn-v0_8-talk', 'seaborn-v0_8-ticks', 'seaborn-v0_8-white', 'seaborn-v0_8-whitegrid', 'tableau-colorblind10']\n"
     ]
    }
   ],
   "source": [
    "import numpy as np\n",
    "import matplotlib.pyplot as plt\n",
    "from datetime import datetime\n",
    "from EB import EBplotsNEC\n",
    "import matplotlib.animation as animation\n",
    "\n",
    "from scipy import spatial\n",
    "from scipy.optimize import minimize\n",
    "from viresclient import set_token\n",
    "from viresclient import SwarmRequest\n",
    "import warnings\n",
    "import matplotlib.pyplot as plt\n",
    "import datetime\n",
    "import arviz as az\n",
    "\n",
    "from itertools import chain\n",
    "\n",
    "from scipy.fft import fft, fftfreq\n",
    "\n",
    "import xarray\n",
    "from scipy import signal\n",
    "from scipy import constants\n",
    "import pytensor.tensor as pt\n",
    "import pymc as pm\n",
    "mu0 = constants.mu_0\n",
    "from scipy.special import gamma, jv\n",
    "import copy\n",
    "import matplotlib.pyplot as plt\n",
    "import mplcyberpunk\n",
    "print(plt.style.available)\n",
    "plt.style.use(\"cyberpunk\")"
   ]
  },
  {
   "cell_type": "code",
   "execution_count": 2,
   "metadata": {},
   "outputs": [],
   "source": [
    "warnings.filterwarnings('ignore')"
   ]
  },
  {
   "cell_type": "code",
   "execution_count": 3,
   "metadata": {},
   "outputs": [],
   "source": [
    "dict={'time_range': (datetime.datetime(2021, 9, 24, 3, 46), datetime.datetime(2021, 9, 24, 3, 48)),\n",
    "       'satellite_graph': ['swarma', 'swarmc'], 'coordinate_system': ['North East Centre'], 'graph_B_chosen': ['East'],\n",
    "         'B_frequency': ['50Hz'], 'E_frequency': ['16Hz'], 'graph_E_chosen': ['North'], 'graph_PF_chosen': None, 'FAC': False,\n",
    "           'Difference': False, 'E_B_ratio': True, 'Pixel_intensity': False, 'sky_map_values': None, 'bandpass': [True, [0, 6]], 'heatmap': None,\n",
    "             'conductivities': None, 'animation': False, 'Time_Series': None, 'E_periodogram': None, 'B_periodogram': None, 'EB_periodogram': None,\n",
    "               'sampling_rate': None, 'window_length': None, 'EB_cross power': None, 'EB_cross phase': None, 'lags_cross': None, 'nperseg': 'quarter window',\n",
    "                 'lag': True, 'time_range_single': (datetime.datetime(2021, 9, 24, 3, 46, 50), datetime.datetime(2021, 9, 24, 3, 47, 17)),\n",
    "                   'singles_graph': ['E_North', 'B_East', 'ENorth/BEast ratio', 'EEast/BNorth ratio'], 'pixel_average': None}"
   ]
  },
  {
   "cell_type": "code",
   "execution_count": 4,
   "metadata": {},
   "outputs": [
    {
     "name": "stdout",
     "output_type": "stream",
     "text": [
      "Token saved for https://vires.services/ows\n",
      "{'time_range': (datetime.datetime(2021, 9, 24, 3, 46), datetime.datetime(2021, 9, 24, 3, 48)), 'satellite_graph': ['swarma', 'swarmc'], 'coordinate_system': ['North East Centre'], 'graph_B_chosen': ['East'], 'B_frequency': ['50Hz'], 'E_frequency': ['16Hz'], 'graph_E_chosen': ['North'], 'graph_PF_chosen': None, 'FAC': False, 'Difference': False, 'E_B_ratio': True, 'Pixel_intensity': False, 'sky_map_values': None, 'bandpass': [True, [0, 6]], 'heatmap': None, 'conductivities': None, 'animation': False, 'Time_Series': None, 'E_periodogram': None, 'B_periodogram': None, 'EB_periodogram': None, 'sampling_rate': None, 'window_length': None, 'EB_cross power': None, 'EB_cross phase': None, 'lags_cross': None, 'nperseg': 'quarter window', 'lag': True, 'time_range_single': (datetime.datetime(2021, 9, 24, 3, 46, 50), datetime.datetime(2021, 9, 24, 3, 47, 17)), 'singles_graph': ['E_North', 'B_East', 'ENorth/BEast ratio', 'EEast/BNorth ratio'], 'pixel_average': None}\n",
      "dict_keys(['time_range', 'satellite_graph', 'coordinate_system', 'graph_B_chosen', 'B_frequency', 'E_frequency', 'graph_E_chosen', 'graph_PF_chosen', 'FAC', 'Difference', 'E_B_ratio', 'Pixel_intensity', 'sky_map_values', 'bandpass', 'heatmap', 'conductivities', 'animation', 'Time_Series', 'E_periodogram', 'B_periodogram', 'EB_periodogram', 'sampling_rate', 'window_length', 'EB_cross power', 'EB_cross phase', 'lags_cross', 'nperseg', 'lag', 'time_range_single', 'singles_graph', 'pixel_average'])\n"
     ]
    }
   ],
   "source": [
    "fig,axes,data = EBplotsNEC(dict)\n",
    "fig.show()\n"
   ]
  },
  {
   "cell_type": "code",
   "execution_count": null,
   "metadata": {},
   "outputs": [],
   "source": [
    "fig.clear()"
   ]
  },
  {
   "cell_type": "code",
   "execution_count": null,
   "metadata": {},
   "outputs": [
    {
     "name": "stdout",
     "output_type": "stream",
     "text": [
      "(2, 1, 8, 2, 108)\n",
      "(4.7626504565836045+0j)\n",
      "(7.078595246422002+0j)\n",
      "Conductivies of each satlelite from each polarization\n",
      "(3.8224720578170164+0j)\n",
      "(3.7374662252260493+0j)\n",
      "Conductivies of each satlelite from each polarization\n",
      "[1.90312251 1.15701852] [2854683.7660794333, 1735527.77585827]\n",
      "[0.14814815 0.2962963  0.44444444 0.59259259 0.74074074 0.88888889\n",
      " 1.03703704 1.18518519 1.33333333 1.48148148 1.62962963 1.77777778\n",
      " 1.92592593 2.07407407 2.22222222 2.37037037 2.51851852 2.66666667\n",
      " 2.81481481 2.96296296 3.11111111 3.25925926 3.40740741 3.55555556\n",
      " 3.7037037  3.85185185 4.         4.14814815 4.2962963  4.44444444\n",
      " 4.59259259 4.74074074 4.88888889 5.03703704 5.18518519 5.33333333\n",
      " 5.48148148 5.62962963 5.77777778 5.92592593]\n"
     ]
    }
   ],
   "source": [
    "Alfven_speed=[]\n",
    "conducitivies=[]\n",
    "print(np.shape(data))\n",
    "for i in range(2):\n",
    "    if dict['bandpass'][0] == True:\n",
    "        bandpass=np.where((np.real(data[i, 0, 0, 0, :]) >= dict['bandpass'][1][0]) & (np.real(data[i, 0, 0, 0, :]) <= dict['bandpass'][1][1]))[0]\n",
    "    else: \n",
    "        bandpass =np.where(np.real((data[i, 0, 0, 0, :]) >= 0))[0]\n",
    "    print(1/(1.256e-6*data[i, 0,  3, 0, bandpass][0]))\n",
    "    print(1/(1.256e-6*data[i, 0,  3, 1, bandpass][0])) \n",
    "    print(\"Conductivies of each satlelite from each polarization\")\n",
    "    conducitivies.append(1/(1.256e-6*np.absolute(data[i, 0,  3, 0, bandpass][0])))\n",
    "    Alfven_speed.append(np.mean(np.absolute(data[i, 0,  3, 0, bandpass])))\n",
    "print(np.array(Alfven_speed)/1.5e6, Alfven_speed)\n",
    "powerspec =  np.delete(np.absolute(data[i, 0, 3, 0, bandpass]),0)\n",
    "omega= np.delete(np.real(data[0,0,0,0,bandpass]), 0)\n",
    "print(omega)\n",
    "np.savetxt('frequencies.csv', omega, delimiter=\",\")\n",
    "np.savetxt('powerspectrum.csv', powerspec, delimiter=',')\n",
    "np.savetxt('conducitivies.csv', conducitivies, delimiter=\",\")\n",
    "np.savetxt('Alfven.csv', Alfven_speed, delimiter=',')"
   ]
  },
  {
   "cell_type": "code",
   "execution_count": null,
   "metadata": {},
   "outputs": [],
   "source": [
    "idata = az.from_netcdf(r\"C:\\Users\\1101w\\Documents\\GitHub\\Physics_Work\\Aurora_Work\\filename.nc\")"
   ]
  },
  {
   "cell_type": "code",
   "execution_count": null,
   "metadata": {},
   "outputs": [],
   "source": [
    "ax = az.plot_forest(\n",
    "    idata,\n",
    "    var_names=[\"sigmap\", \"vai\", \"h\"],\n",
    "    figsize=(11.5, 5),\n",
    "    colors=\"C1\",\n",
    "    ess=True,\n",
    "    # r_hat=True,\n",
    ")\n",
    "axes = az.plot_density(\n",
    "    [idata],\n",
    "    data_labels=[\"Centered\"],\n",
    "    var_names=[\"sigmap\", \"vai\", \"h\"],\n",
    "    shade=0.2,\n",
    ")\n",
    "az.plot_autocorr(idata, var_names=([\"sigmap\", \"vai\", \"h\"]))\n",
    "plt.show()"
   ]
  }
 ],
 "metadata": {
  "kernelspec": {
   "display_name": "pymc_env",
   "language": "python",
   "name": "python3"
  },
  "language_info": {
   "codemirror_mode": {
    "name": "ipython",
    "version": 3
   },
   "file_extension": ".py",
   "mimetype": "text/x-python",
   "name": "python",
   "nbconvert_exporter": "python",
   "pygments_lexer": "ipython3",
   "version": "3.11.7"
  }
 },
 "nbformat": 4,
 "nbformat_minor": 2
}
